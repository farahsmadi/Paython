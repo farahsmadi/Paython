{
 "cells": [
  {
   "cell_type": "code",
   "execution_count": null,
   "metadata": {
    "collapsed": true
   },
   "outputs": [],
   "source": [
    "\n",
    "import numpy as np\n",
    "import pandas as pd\n",
    "import matplotlib.pyplot as plt\n",
    "%matplotlib inline\n"
   ]
  },
  {
   "cell_type": "code",
   "execution_count": 2,
   "metadata": {},
   "outputs": [
    {
     "ename": "NameError",
     "evalue": "name 'df_iris' is not defined",
     "output_type": "error",
     "traceback": [
      "\u001b[1;31m---------------------------------------------------------------------------\u001b[0m",
      "\u001b[1;31mNameError\u001b[0m                                 Traceback (most recent call last)",
      "\u001b[1;32m<ipython-input-2-a3757a40cbaa>\u001b[0m in \u001b[0;36m<module>\u001b[1;34m()\u001b[0m\n\u001b[1;32m----> 1\u001b[1;33m \u001b[0mdf_iris\u001b[0m\u001b[1;33m\u001b[0m\u001b[0m\n\u001b[0m",
      "\u001b[1;31mNameError\u001b[0m: name 'df_iris' is not defined"
     ]
    }
   ],
   "source": [
    "male1995 = pd.Series([8.5,11.5,23.5,29.2,15.1,6.1,6.1],\n",
    "                    index=['Illiterate','Can Read and Write','Elementary','Preparatory','Secondary',\n",
    "                           'Associate Diploma','Bachelor and above'])\n",
    "\n",
    "female1995= pd.Series({'Illiterate': 23.0,'Can Read and Write': 10.1,'Elementary': 21.3,\n",
    "                       'Preparatory': 25.9,'Secondary': 12.5,'Associate Diploma': 4.8,'Bachelor and above': 2.4})\n",
    "\n",
    "bothsexes1995= pd.Series({'Illiterate': 15.7,'Can Read and Write': 10.8,'Elementary': 22.4,\n",
    "                          'Preparatory': 27.5,'Secondary': 13.8,'Associate Diploma': 5.5,'Bachelor and above': 4.3})\n",
    "\n",
    "educationalattainment = pd.DataFrame({'male': male1995,'female': female1995, 'bothsexes' : bothsexes1995})\n",
    "educationalattainment"
   ]
  },
  {
   "cell_type": "code",
   "execution_count": null,
   "metadata": {
    "collapsed": true
   },
   "outputs": [],
   "source": [
    "\n",
    "individuals= pd.DataFrame([{'Education': 'College', 'Height': 70, 'Gender': 'Male'},\n",
    "                           {'Education': 'College', 'Height': 68, 'Gender': 'Female'},\n",
    "                          {'Education': 'HighSchool', 'Height': 69, 'Gender': 'Male'}])\n",
    "individuals"
   ]
  },
  {
   "cell_type": "code",
   "execution_count": null,
   "metadata": {
    "collapsed": true
   },
   "outputs": [],
   "source": [
    "objects = ('College', 'HighSchool', 'beyound college')\n",
    "pop=[50,20,15]\n",
    "n=len(objects)\n",
    "y_pos = np.arange(n)\n",
    "plt.bar(y_pos, pop, align='center', alpha=0.5)\n",
    "plt.xticks(y_pos, objects)\n",
    "plt.ylabel('pop')\n",
    "plt.title('Education')\n",
    " \n",
    "plt.show()"
   ]
  },
  {
   "cell_type": "code",
   "execution_count": null,
   "metadata": {
    "collapsed": true
   },
   "outputs": [],
   "source": [
    "Deaths = ('Car accident','others')\n",
    "percentage = [30, 15]\n",
    "n1=len(Deaths)\n",
    "y_pos = np.arange(n1)\n",
    "plt.barh(y_pos, percentage, align='center', alpha=0.5)\n",
    "\n",
    "plt.yticks(y_pos, Deaths)\n",
    "plt.title('cause of death')\n",
    " \n",
    "plt.show()"
   ]
  },
  {
   "cell_type": "code",
   "execution_count": null,
   "metadata": {
    "collapsed": true
   },
   "outputs": [],
   "source": [
    "male1995 = pd.Series([8.5,11.5,23.5,29.2,15.1,6.1,6.1],\n",
    "                    index=['Illiterate','Can Read and Write','Elementary','Preparatory','Secondary',\n",
    "                           'Associate Diploma','Bachelor and above'])\n",
    "\n",
    "female1995= pd.Series({'Illiterate': 23.0,'Can Read and Write': 10.1,'Elementary': 21.3,\n",
    "                       'Preparatory': 25.9,'Secondary': 12.5,'Associate Diploma': 4.8,'Bachelor and above': 2.4})\n",
    "\n",
    "bothsexes1995= pd.Series({'Illiterate': 15.7,'Can Read and Write': 10.8,'Elementary': 22.4,\n",
    "                          'Preparatory': 27.5,'Secondary': 13.8,'Associate Diploma': 5.5,'Bachelor and above': 4.3})\n",
    "\n",
    "educationalattainment = pd.DataFrame({'male': male1995,'female': female1995, 'bothsexes' : bothsexes1995})\n",
    "educationalattainment"
   ]
  },
  {
   "cell_type": "code",
   "execution_count": null,
   "metadata": {
    "collapsed": true
   },
   "outputs": [],
   "source": [
    "\n",
    "plt.figure(); educationalattainment.plot()"
   ]
  }
 ],
 "metadata": {
  "kernelspec": {
   "display_name": "Python 3",
   "language": "python",
   "name": "python3"
  },
  "language_info": {
   "codemirror_mode": {
    "name": "ipython",
    "version": 3
   },
   "file_extension": ".py",
   "mimetype": "text/x-python",
   "name": "python",
   "nbconvert_exporter": "python",
   "pygments_lexer": "ipython3",
   "version": "3.6.1"
  }
 },
 "nbformat": 4,
 "nbformat_minor": 2
}
