{
 "cells": [
  {
   "cell_type": "code",
   "execution_count": 1,
   "metadata": {
    "collapsed": true
   },
   "outputs": [],
   "source": [
    "nephews = [\"ALi\",\"Abed\",\"Moe\"]\n",
    "\n",
    "\n"
   ]
  },
  {
   "cell_type": "code",
   "execution_count": 2,
   "metadata": {},
   "outputs": [
    {
     "data": {
      "text/plain": [
       "'ALi'"
      ]
     },
     "execution_count": 2,
     "metadata": {},
     "output_type": "execute_result"
    }
   ],
   "source": [
    "#Lists in Python are denoted by brackets, and their elements are separated by commas. Let's look at the list that we just created.\n",
    "#Individual list elements can be accessed by index. Starting with zero for the first element. For instance, the first nephew is Ali. This convention of starting from zero comes from C. The language that inspired Python, and that was used to write the standard Python interpreter which is known as CPython for this reason.\n",
    "\n",
    "\n",
    "nephews[0]"
   ]
  },
  {
   "cell_type": "code",
   "execution_count": 3,
   "metadata": {},
   "outputs": [
    {
     "data": {
      "text/plain": [
       "'Moe'"
      ]
     },
     "execution_count": 3,
     "metadata": {},
     "output_type": "execute_result"
    }
   ],
   "source": [
    "nephews[2]\n"
   ]
  },
  {
   "cell_type": "code",
   "execution_count": 4,
   "metadata": {},
   "outputs": [
    {
     "data": {
      "text/plain": [
       "3"
      ]
     },
     "execution_count": 4,
     "metadata": {},
     "output_type": "execute_result"
    }
   ],
   "source": [
    "#So we can also look for the last nephew, and we can even look for a nephew beyond the end of list, which in this case will yield an error. The list index is out of range. The length of a list is obtained with len.\n",
    "\n",
    "len(nephews)\n"
   ]
  },
  {
   "cell_type": "code",
   "execution_count": 5,
   "metadata": {},
   "outputs": [
    {
     "name": "stdout",
     "output_type": "stream",
     "text": [
      "['ALi natsheh', 'Abed natsheh', 'Moe natsheh']\n"
     ]
    }
   ],
   "source": [
    "#This bracket indexing notation can also be used to reassign elements. Let's do it for all of them with a simple loop. lets have a look.\n",
    "\n",
    "for i in range(3):\n",
    "    nephews[i] = nephews[i] + ' natsheh'\n",
    "\n",
    "print(nephews)\n",
    "\n"
   ]
  },
  {
   "cell_type": "code",
   "execution_count": 6,
   "metadata": {},
   "outputs": [
    {
     "data": {
      "text/plain": [
       "[1, [2, 3], 'alpha']"
      ]
     },
     "execution_count": 6,
     "metadata": {},
     "output_type": "execute_result"
    }
   ],
   "source": [
    "#An important point is that lists do not need to have homogeneous content, such as all strings of all numbers. We could mix it up. In all these cases, the output representation of our Python object is very similar to our input. To add a single element to a list, we use the append method.\n",
    "\n",
    "mix_it_up = [1,[2,3],'alpha']\n",
    "mix_it_up\n"
   ]
  },
  {
   "cell_type": "code",
   "execution_count": 7,
   "metadata": {},
   "outputs": [
    {
     "name": "stdout",
     "output_type": "stream",
     "text": [
      "['ALi natsheh', 'Abed natsheh', 'Moe natsheh', 'Masa Natsheh']\n"
     ]
    }
   ],
   "source": [
    "nephews.append('Masa Natsheh')\n",
    "print(nephews)\n"
   ]
  },
  {
   "cell_type": "code",
   "execution_count": 8,
   "metadata": {},
   "outputs": [
    {
     "name": "stdout",
     "output_type": "stream",
     "text": [
      "['ALi natsheh', 'Abed natsheh', 'Moe natsheh', 'Masa Natsheh', 'zenah Natsheh', 'Maya Natsheh']\n"
     ]
    }
   ],
   "source": [
    "#In the same cell, we're going to write a second statement to print out our list. To concatenate two lists, we can use the extend method or just a plus. For instance, let's add the missing two nieces. Or let's side the other way with a plus sign.\n",
    "\n",
    "nephews.extend(['zenah Natsheh', \"Maya Natsheh\"])\n",
    "print (nephews)\n"
   ]
  },
  {
   "cell_type": "code",
   "execution_count": 9,
   "metadata": {},
   "outputs": [
    {
     "name": "stdout",
     "output_type": "stream",
     "text": [
      "['ALi natsheh', 'Abed natsheh', 'Moe natsheh', 'Masa Natsheh', 'zenah Natsheh', 'Maya Natsheh', 'Nawal Natsheh', 'Eman Natsheh']\n"
     ]
    }
   ],
   "source": [
    "\n",
    "Natsheh = nephews + ['Nawal Natsheh', 'Eman Natsheh']\n",
    "print(Natsheh)\n"
   ]
  },
  {
   "cell_type": "code",
   "execution_count": 10,
   "metadata": {},
   "outputs": [
    {
     "name": "stdout",
     "output_type": "stream",
     "text": [
      "['Noor Natsheh', 'ALi natsheh', 'Abed natsheh', 'Moe natsheh', 'Masa Natsheh', 'zenah Natsheh', 'Maya Natsheh', 'Nawal Natsheh', 'Eman Natsheh']\n"
     ]
    }
   ],
   "source": [
    "#We could also insert elements at any position in the list using the insert method.\n",
    "Natsheh.insert(0, 'Noor Natsheh')\n",
    "print(Natsheh)\n"
   ]
  },
  {
   "cell_type": "code",
   "execution_count": 11,
   "metadata": {},
   "outputs": [
    {
     "name": "stdout",
     "output_type": "stream",
     "text": [
      "['ALi natsheh', 'Abed natsheh', 'Moe natsheh', 'Masa Natsheh', 'zenah Natsheh', 'Maya Natsheh', 'Nawal Natsheh', 'Eman Natsheh']\n"
     ]
    }
   ],
   "source": [
    " #we can delete elements either by their index, or by their value\n",
    "del Natsheh[0]\n",
    "print(Natsheh)\n",
    "\n"
   ]
  },
  {
   "cell_type": "code",
   "execution_count": 12,
   "metadata": {},
   "outputs": [
    {
     "name": "stdout",
     "output_type": "stream",
     "text": [
      "['ALi natsheh', 'Abed natsheh', 'Moe natsheh', 'Masa Natsheh', 'zenah Natsheh', 'Maya Natsheh', 'Eman Natsheh']\n"
     ]
    }
   ],
   "source": [
    "Natsheh.remove('Nawal Natsheh')\n",
    "print (Natsheh)"
   ]
  },
  {
   "cell_type": "code",
   "execution_count": 13,
   "metadata": {},
   "outputs": [
    {
     "name": "stdout",
     "output_type": "stream",
     "text": [
      "['ALi natsheh', 'Abed natsheh', 'Eman Natsheh', 'Masa Natsheh', 'Maya Natsheh', 'Moe natsheh', 'zenah Natsheh']\n"
     ]
    }
   ],
   "source": [
    "#Last, we can sort the elements. The default sorting order is what's known as Lexicographic. For strings with standard characters, this just means alphabetic. The sorting is in place, so it modifies a list that already exists. This should all be very basic to you if you've worked with Python in the past.\n",
    "\n",
    "Natsheh.sort()\n",
    "print(Natsheh)\n",
    "\n"
   ]
  },
  {
   "cell_type": "code",
   "execution_count": 14,
   "metadata": {
    "collapsed": true
   },
   "outputs": [],
   "source": [
    "squares = [0,1,4,9,16,25,36,49]"
   ]
  },
  {
   "cell_type": "code",
   "execution_count": 15,
   "metadata": {},
   "outputs": [
    {
     "data": {
      "text/plain": [
       "[0, 1]"
      ]
     },
     "execution_count": 15,
     "metadata": {},
     "output_type": "execute_result"
    }
   ],
   "source": [
    "#These are known as slices. For instance, let's use numbers now. Let's have a list of the first few squares. Zero is the square of zero, one is the square of one, and so on. For instance, if we wish to have a sublist of the first two elements, we will write it as a slice going from zero to two. If we want the sublist of the second and third element, we will write it as a slice of elements one through index three.\n",
    "\n",
    "squares[0:2]\n",
    "\n"
   ]
  },
  {
   "cell_type": "code",
   "execution_count": 16,
   "metadata": {},
   "outputs": [
    {
     "data": {
      "text/plain": [
       "[1, 4]"
      ]
     },
     "execution_count": 16,
     "metadata": {},
     "output_type": "execute_result"
    }
   ],
   "source": [
    "squares[1:3]"
   ]
  },
  {
   "cell_type": "code",
   "execution_count": 17,
   "metadata": {},
   "outputs": [
    {
     "data": {
      "text/plain": [
       "[0, 1, 4, 9]"
      ]
     },
     "execution_count": 17,
     "metadata": {},
     "output_type": "execute_result"
    }
   ],
   "source": [
    "#This notation may look a little counterintuitive because the second index actually refers to an element that is not picked in the sublist. However, this is again a C inspired notation, and it has the advantage that the number of elements selected in a slice, is given by the difference of the two indices. So slice zero to two were selecting two elements, slice one to three will also select in two elements. There are a few more tricks that we can use in slicing.\n",
    "#For instance, we can omit the starting index to start at the beginning of a list. We can omit the ending index to go until the end. We can omit both indices to get the entire list. We can also use negative indices to count from the end. So minus one will yield the last element in the list, 49.\n",
    "\n",
    "squares[:4]"
   ]
  },
  {
   "cell_type": "code",
   "execution_count": 18,
   "metadata": {},
   "outputs": [
    {
     "data": {
      "text/plain": [
       "[1, 4, 9, 16, 25, 36, 49]"
      ]
     },
     "execution_count": 18,
     "metadata": {},
     "output_type": "execute_result"
    }
   ],
   "source": [
    "squares[1:]"
   ]
  },
  {
   "cell_type": "code",
   "execution_count": 19,
   "metadata": {},
   "outputs": [
    {
     "name": "stdout",
     "output_type": "stream",
     "text": [
      "[0, 1, 4, 9, 16, 25, 36, 49]\n"
     ]
    }
   ],
   "source": [
    "squares[:]\n",
    "print(squares)"
   ]
  },
  {
   "cell_type": "code",
   "execution_count": 20,
   "metadata": {},
   "outputs": [
    {
     "name": "stdout",
     "output_type": "stream",
     "text": [
      "[0, 1, 4, 9, 16, 25, 36, 49]\n"
     ]
    }
   ],
   "source": [
    "squares[-1]\n",
    "print(squares)"
   ]
  },
  {
   "cell_type": "code",
   "execution_count": 21,
   "metadata": {
    "collapsed": true
   },
   "outputs": [],
   "source": [
    "squares[2:4] = ['4', '9']\n"
   ]
  },
  {
   "cell_type": "code",
   "execution_count": 22,
   "metadata": {},
   "outputs": [
    {
     "name": "stdout",
     "output_type": "stream",
     "text": [
      "[0, 1, '4', '9', 16, 25, 36, 49]\n"
     ]
    }
   ],
   "source": [
    "print(squares)"
   ]
  },
  {
   "cell_type": "code",
   "execution_count": 23,
   "metadata": {
    "collapsed": true
   },
   "outputs": [],
   "source": [
    "del squares[-2:]"
   ]
  },
  {
   "cell_type": "code",
   "execution_count": 24,
   "metadata": {},
   "outputs": [
    {
     "name": "stdout",
     "output_type": "stream",
     "text": [
      "[0, 1, '4', '9', 16, 25]\n"
     ]
    }
   ],
   "source": [
    "print(squares)"
   ]
  },
  {
   "cell_type": "code",
   "execution_count": 25,
   "metadata": {},
   "outputs": [
    {
     "name": "stdout",
     "output_type": "stream",
     "text": [
      "Element:  0\n",
      "Element:  1\n",
      "Element:  4\n",
      "Element:  9\n",
      "Element:  16\n",
      "Element:  25\n"
     ]
    }
   ],
   "source": [
    "#We're going to iterate over the values contained in this list, and assign them in turn to this variable.\n",
    "\n",
    "for value in squares:\n",
    "    print(\"Element: \", value)"
   ]
  },
  {
   "cell_type": "code",
   "execution_count": 26,
   "metadata": {},
   "outputs": [
    {
     "name": "stdout",
     "output_type": "stream",
     "text": [
      "Element 0 ->  0\n",
      "Element 1 ->  1\n",
      "Element 2 ->  4\n",
      "Element 3 ->  9\n",
      "Element 4 ->  16\n",
      "Element 5 ->  25\n"
     ]
    }
   ],
   "source": [
    "\n",
    "#Given a list, enumerate lets you loop through the list indices and elements together, \n",
    "#For index comma value in enumerate of my list. We can then write a statement that uses both the index and the value.\n",
    "\n",
    "for index, value in enumerate(squares):\n",
    "    print(\"Element\", index, \"-> \", value)"
   ]
  },
  {
   "cell_type": "code",
   "execution_count": null,
   "metadata": {
    "collapsed": true
   },
   "outputs": [],
   "source": []
  },
  {
   "cell_type": "code",
   "execution_count": null,
   "metadata": {
    "collapsed": true
   },
   "outputs": [],
   "source": []
  },
  {
   "cell_type": "code",
   "execution_count": null,
   "metadata": {
    "collapsed": true
   },
   "outputs": [],
   "source": []
  },
  {
   "cell_type": "code",
   "execution_count": null,
   "metadata": {
    "collapsed": true
   },
   "outputs": [],
   "source": []
  }
 ],
 "metadata": {
  "kernelspec": {
   "display_name": "Python 3",
   "language": "python",
   "name": "python3"
  },
  "language_info": {
   "codemirror_mode": {
    "name": "ipython",
    "version": 3
   },
   "file_extension": ".py",
   "mimetype": "text/x-python",
   "name": "python",
   "nbconvert_exporter": "python",
   "pygments_lexer": "ipython3",
   "version": "3.6.1"
  }
 },
 "nbformat": 4,
 "nbformat_minor": 2
}
