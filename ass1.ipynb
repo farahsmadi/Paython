{
 "cells": [
  {
   "cell_type": "code",
   "execution_count": 10,
   "metadata": {},
   "outputs": [
    {
     "name": "stdout",
     "output_type": "stream",
     "text": [
      "Jerusalem\n"
     ]
    }
   ],
   "source": [
    "capitals={\"Palestine\":\"Jerusalem\",\"Japan\":\"Tokyo\",\"Egypt\":\"Cairo\",\"Jordan\":\"Amman\",\"UAE\":\"Dubai\",\"sudan\":\"khartoom\",\"Marakesh\":\"Rebat\",\"India\":\"New Delhi\",\"Yaman\":\"Sanaa\"}\n",
    "print(capital[\"Palestine\"])"
   ]
  },
  {
   "cell_type": "code",
   "execution_count": 11,
   "metadata": {
    "collapsed": true
   },
   "outputs": [],
   "source": [
    "cap={\"Tounis\":\"Tounis\",\"Kuwait\":\"Kuwait\"}  \n",
    "capitals.update(cap)"
   ]
  },
  {
   "cell_type": "code",
   "execution_count": 12,
   "metadata": {},
   "outputs": [
    {
     "data": {
      "text/plain": [
       "{'Egypt': 'Cairo',\n",
       " 'India': 'New Delhi',\n",
       " 'Japan': 'Tokyo',\n",
       " 'Jordan': 'Amman',\n",
       " 'Kuwait': 'Kuwait',\n",
       " 'Marakesh': 'Rebat',\n",
       " 'Palestine': 'Jerusalem',\n",
       " 'Tounis': 'Tounis',\n",
       " 'UAE': 'Dubai',\n",
       " 'Yaman': 'Sanaa',\n",
       " 'sudan': 'khartoom'}"
      ]
     },
     "execution_count": 12,
     "metadata": {},
     "output_type": "execute_result"
    }
   ],
   "source": [
    "capitals"
   ]
  },
  {
   "cell_type": "code",
   "execution_count": 13,
   "metadata": {},
   "outputs": [
    {
     "name": "stdout",
     "output_type": "stream",
     "text": [
      "Palestine Jerusalem\n",
      "Japan Tokyo\n",
      "Egypt Cairo\n",
      "Jordan Amman\n",
      "UAE Dubai\n",
      "sudan khartoom\n",
      "Marakesh Rebat\n",
      "India New Delhi\n",
      "Yaman Sanaa\n",
      "Tounis Tounis\n",
      "Kuwait Kuwait\n"
     ]
    }
   ],
   "source": [
    "for key,value in capitals.items():\n",
    "    print(key,value)"
   ]
  },
  {
   "cell_type": "code",
   "execution_count": 14,
   "metadata": {
    "collapsed": true
   },
   "outputs": [],
   "source": [
    "capitals_bycapital = {capitals[key]: key for key in capitals}"
   ]
  },
  {
   "cell_type": "code",
   "execution_count": 15,
   "metadata": {},
   "outputs": [
    {
     "data": {
      "text/plain": [
       "{'Amman': 'Jordan',\n",
       " 'Cairo': 'Egypt',\n",
       " 'Dubai': 'UAE',\n",
       " 'Jerusalem': 'Palestine',\n",
       " 'Kuwait': 'Kuwait',\n",
       " 'New Delhi': 'India',\n",
       " 'Rebat': 'Marakesh',\n",
       " 'Sanaa': 'Yaman',\n",
       " 'Tokyo': 'Japan',\n",
       " 'Tounis': 'Tounis',\n",
       " 'khartoom': 'sudan'}"
      ]
     },
     "execution_count": 15,
     "metadata": {},
     "output_type": "execute_result"
    }
   ],
   "source": [
    "capitals_bycapital"
   ]
  },
  {
   "cell_type": "code",
   "execution_count": 32,
   "metadata": {},
   "outputs": [
    {
     "data": {
      "text/plain": [
       "['Palestine',\n",
       " 'Japan',\n",
       " 'Egypt',\n",
       " 'Jordan',\n",
       " 'UAE',\n",
       " 'sudan',\n",
       " 'Marakesh',\n",
       " 'India',\n",
       " 'Yaman']"
      ]
     },
     "execution_count": 32,
     "metadata": {},
     "output_type": "execute_result"
    }
   ],
   "source": [
    "c1=[\"Palestine\",\"Japan\",\"Egypt\",\"Jordan\",\"UAE\",\"sudan\",\"Marakesh\",\"India\",\"Yaman\"]\n",
    "c1"
   ]
  },
  {
   "cell_type": "code",
   "execution_count": 35,
   "metadata": {},
   "outputs": [
    {
     "data": {
      "text/plain": [
       "['Jerusalem',\n",
       " 'Tokyo',\n",
       " 'Cairo',\n",
       " 'Amman',\n",
       " 'Dubai',\n",
       " 'khartoom',\n",
       " 'Rebat',\n",
       " 'New Delhi',\n",
       " 'Sanaa']"
      ]
     },
     "execution_count": 35,
     "metadata": {},
     "output_type": "execute_result"
    }
   ],
   "source": [
    "c2= [\"Jerusalem\",\"Tokyo\",\"Cairo\",\"Amman\",\"Dubai\",\"khartoom\",\"Rebat\",\"New Delhi\",\"Sanaa\"]\n",
    "c2"
   ]
  },
  {
   "cell_type": "code",
   "execution_count": 37,
   "metadata": {},
   "outputs": [
    {
     "data": {
      "text/plain": [
       "{'Egypt': 'Cairo',\n",
       " 'India': 'New Delhi',\n",
       " 'Japan': 'Tokyo',\n",
       " 'Jordan': 'Amman',\n",
       " 'Marakesh': 'Rebat',\n",
       " 'Palestine': 'Jerusalem',\n",
       " 'UAE': 'Dubai',\n",
       " 'Yaman': 'Sanaa',\n",
       " 'sudan': 'khartoom'}"
      ]
     },
     "execution_count": 37,
     "metadata": {},
     "output_type": "execute_result"
    }
   ],
   "source": [
    "dict(zip(c1, c2))"
   ]
  },
  {
   "cell_type": "code",
   "execution_count": 39,
   "metadata": {
    "collapsed": true
   },
   "outputs": [],
   "source": [
    "#c={key:value for key in c1 for value in c2}\n",
    "#print(c)"
   ]
  },
  {
   "cell_type": "code",
   "execution_count": null,
   "metadata": {
    "collapsed": true
   },
   "outputs": [],
   "source": []
  }
 ],
 "metadata": {
  "kernelspec": {
   "display_name": "Python 3",
   "language": "python",
   "name": "python3"
  },
  "language_info": {
   "codemirror_mode": {
    "name": "ipython",
    "version": 3
   },
   "file_extension": ".py",
   "mimetype": "text/x-python",
   "name": "python",
   "nbconvert_exporter": "python",
   "pygments_lexer": "ipython3",
   "version": "3.6.3"
  }
 },
 "nbformat": 4,
 "nbformat_minor": 2
}
